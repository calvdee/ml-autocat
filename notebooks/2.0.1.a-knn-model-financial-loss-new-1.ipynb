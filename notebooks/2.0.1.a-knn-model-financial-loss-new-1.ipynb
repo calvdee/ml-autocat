{
 "cells": [
  {
   "cell_type": "code",
   "execution_count": 1,
   "metadata": {},
   "outputs": [],
   "source": [
    "%load_ext autoreload\n",
    "%autoreload 2\n",
    "import sys, os\n",
    "sys.path.insert(1, os.path.join(sys.path[0], '..'))"
   ]
  },
  {
   "cell_type": "code",
   "execution_count": 2,
   "metadata": {},
   "outputs": [],
   "source": [
    "import pandas as pd\n",
    "import matplotlib.pyplot as plt\n",
    "import seaborn as sns\n",
    "import numpy as np\n",
    "%matplotlib inline\n",
    "\n",
    "# Pipeline\n",
    "from sklearn.pipeline import Pipeline, make_pipeline\n",
    "from sklearn.preprocessing import StandardScaler\n",
    "from sklearn.metrics import make_scorer, f1_score, classification_report, confusion_matrix\n",
    "from sklearn.externals import joblib\n",
    "from sklearn.model_selection import cross_val_score, cross_val_predict, train_test_split\n",
    "\n",
    "# Algorithms\n",
    "from sklearn.neighbors import KNeighborsClassifier\n",
    "\n",
    "# Internal\n",
    "from autocat.data.datasets import get_training_data, get_totals_data\n",
    "from autocat.data.features import CombinedFeatureAdder, feature_transactions_per_day, PandasDataFrameTransformer\n",
    "from autocat.data.filters import FeatureFilters, no_null_StdUnitsShipped_StdNetAmount\n",
    "from autocat.models import GridSearchModel, Model\n",
    "from autocat.models.evaluation import plot_learning_curve, get_scorer, financial_loss_scorer\n",
    "from autocat.models.pipelines import get_scaled_pipeline_v1"
   ]
  },
  {
   "cell_type": "markdown",
   "metadata": {},
   "source": [
    "## Pipeline"
   ]
  },
  {
   "cell_type": "code",
   "execution_count": 3,
   "metadata": {},
   "outputs": [],
   "source": [
    "TRAINING_DATA = '../data/processed/train_2018-08-24.csv'\n",
    "\n",
    "# Create feaure matrix and label vector\n",
    "X, y = get_training_data(TRAINING_DATA, [\n",
    "    no_null_StdUnitsShipped_StdNetAmount\n",
    "], drop_na=True)"
   ]
  },
  {
   "cell_type": "code",
   "execution_count": 4,
   "metadata": {},
   "outputs": [
    {
     "name": "stdout",
     "output_type": "stream",
     "text": [
      "Pipeline(memory=None,\n",
      "     steps=[('feaure_transactions_per_day', CombinedFeatureAdder(attribute_fn=<function feature_transactions_per_day at 0x108ea4c80>)), ('std_scaler', StandardScaler(copy=True, with_mean=True, with_std=True)), ('data_frame', PandasDataFrameTransformer(columns=['AvgUnitsShipped', 'StdUnitsShipped', 'MinUnitsShipped', 'MaxUnitsShipped', 'AvgNetAmount', 'StdNetAmount', 'MinNetAmount', 'MaxNetAmount', 'NumberOfTransactions', 'NumberOfTransactionDays', 'TransactionsPerDay']))])\n"
     ]
    }
   ],
   "source": [
    "# Get the scaled pipeline\n",
    "pipeline = get_scaled_pipeline_v1(X)\n",
    "print(pipeline)"
   ]
  },
  {
   "cell_type": "code",
   "execution_count": 5,
   "metadata": {},
   "outputs": [
    {
     "name": "stdout",
     "output_type": "stream",
     "text": [
      "Training instances: 5610\n"
     ]
    }
   ],
   "source": [
    "print('Training instances:', len(X))"
   ]
  },
  {
   "cell_type": "markdown",
   "metadata": {},
   "source": [
    "## Scorer"
   ]
  },
  {
   "cell_type": "code",
   "execution_count": 6,
   "metadata": {},
   "outputs": [],
   "source": [
    "totals_data = get_totals_data()\n",
    "scorer = make_scorer(financial_loss_scorer, totals=totals_data, greater_is_better=False)"
   ]
  },
  {
   "cell_type": "markdown",
   "metadata": {},
   "source": [
    "## Model"
   ]
  },
  {
   "cell_type": "code",
   "execution_count": 7,
   "metadata": {},
   "outputs": [],
   "source": [
    "# Create the parameter grid to optimize\n",
    "param_grid = [\n",
    "    {\n",
    "        'knn__n_neighbors': [1, 3, 5, 10, 25, 30, 45, 50], \n",
    "        'knn__metric': ['euclidean'],\n",
    "        'knn__weights': ['uniform', 'distance']\n",
    "    },\n",
    "   {\n",
    "       'knn__n_neighbors': [1, 3, 5, 10, 25, 30, 45, 50], \n",
    "       'knn__metric': ['minkowski'],\n",
    "        'knn__weights': ['uniform', 'distance'],\n",
    "       'knn__p': [1, 3]\n",
    "    }\n",
    "  ]"
   ]
  },
  {
   "cell_type": "code",
   "execution_count": 8,
   "metadata": {},
   "outputs": [
    {
     "data": {
      "text/plain": [
       "<autocat.models.Model at 0x109460198>"
      ]
     },
     "execution_count": 8,
     "metadata": {},
     "output_type": "execute_result"
    }
   ],
   "source": [
    "# # Train a model using grid search\n",
    "# model = GridSearchModel(param_grid, name='knn', model=KNeighborsClassifier(), pipeline=pipeline)\n",
    "# model.train(X, y, 10, scorer)\n",
    "\n",
    "# Use existing model\n",
    "model = Model(\n",
    "    'knn', \n",
    "    KNeighborsClassifier(algorithm='auto', leaf_size=30, metric='minkowski',\n",
    "               metric_params=None, n_jobs=1, n_neighbors=25, p=1,\n",
    "               weights='distance'),\n",
    "    pipeline)\n",
    "\n",
    "model.fit(X, y)"
   ]
  },
  {
   "cell_type": "code",
   "execution_count": 9,
   "metadata": {},
   "outputs": [
    {
     "data": {
      "text/plain": [
       "KNeighborsClassifier(algorithm='auto', leaf_size=30, metric='minkowski',\n",
       "           metric_params=None, n_jobs=1, n_neighbors=25, p=1,\n",
       "           weights='distance')"
      ]
     },
     "execution_count": 9,
     "metadata": {},
     "output_type": "execute_result"
    }
   ],
   "source": [
    "model.model"
   ]
  },
  {
   "cell_type": "markdown",
   "metadata": {},
   "source": [
    "We could tune this to find optimal `n_neighbors` parameter in the range [25,30]"
   ]
  },
  {
   "cell_type": "markdown",
   "metadata": {},
   "source": [
    "## Evaluation"
   ]
  },
  {
   "cell_type": "code",
   "execution_count": 10,
   "metadata": {},
   "outputs": [],
   "source": [
    "model_predictions = model.model_pipeline.predict(X)"
   ]
  },
  {
   "cell_type": "markdown",
   "metadata": {},
   "source": [
    "#### Training Set"
   ]
  },
  {
   "cell_type": "code",
   "execution_count": 11,
   "metadata": {},
   "outputs": [
    {
     "name": "stdout",
     "output_type": "stream",
     "text": [
      "Score: -0.0\n",
      "                      precision    recall  f1-score   support\n",
      "\n",
      "           Body Care       1.00      1.00      1.00       936\n",
      "              Frozen       0.99      0.99      0.99       308\n",
      "                Meat       1.00      1.00      1.00       102\n",
      "    Packaged Grocery       0.99      1.00      1.00      3005\n",
      "        Packaged Tea       1.00      0.99      0.99       222\n",
      "Refrigerated Grocery       1.00      0.99      1.00       595\n",
      "            Vitamins       1.00      0.98      0.99       442\n",
      "\n",
      "         avg / total       1.00      1.00      1.00      5610\n",
      "\n"
     ]
    }
   ],
   "source": [
    "results = model.score(X, y, scorer)\n",
    "print('Score:', results[0])\n",
    "print(classification_report(y, model.model.predict(model.pipeline.fit_transform(X))))"
   ]
  },
  {
   "cell_type": "markdown",
   "metadata": {},
   "source": [
    "#### Cross Validation"
   ]
  },
  {
   "cell_type": "code",
   "execution_count": 12,
   "metadata": {},
   "outputs": [],
   "source": [
    "CV=10"
   ]
  },
  {
   "cell_type": "markdown",
   "metadata": {},
   "source": [
    "##### Financial Loss"
   ]
  },
  {
   "cell_type": "code",
   "execution_count": 13,
   "metadata": {},
   "outputs": [
    {
     "data": {
      "text/plain": [
       "-2501029.403"
      ]
     },
     "execution_count": 13,
     "metadata": {},
     "output_type": "execute_result"
    }
   ],
   "source": [
    "cv_scores = cross_val_score(model.get_model_pipeline(), X, y, scoring=scorer, cv=CV)\n",
    "cv_scores.mean()"
   ]
  },
  {
   "cell_type": "markdown",
   "metadata": {},
   "source": [
    "Lower than the SVM model"
   ]
  },
  {
   "cell_type": "markdown",
   "metadata": {},
   "source": [
    "##### F1"
   ]
  },
  {
   "cell_type": "code",
   "execution_count": 14,
   "metadata": {},
   "outputs": [
    {
     "name": "stdout",
     "output_type": "stream",
     "text": [
      "0.6982174688057041\n",
      "                      precision    recall  f1-score   support\n",
      "\n",
      "           Body Care       0.67      0.78      0.72       936\n",
      "              Frozen       0.44      0.01      0.03       308\n",
      "                Meat       0.90      0.62      0.73       102\n",
      "    Packaged Grocery       0.72      0.91      0.80      3005\n",
      "        Packaged Tea       0.52      0.07      0.12       222\n",
      "Refrigerated Grocery       0.65      0.46      0.54       595\n",
      "            Vitamins       0.56      0.25      0.34       442\n",
      "\n",
      "         avg / total       0.67      0.70      0.65      5610\n",
      "\n"
     ]
    }
   ],
   "source": [
    "cv_predictions = cross_val_predict(model.get_model_pipeline(), X, y, cv=CV)\n",
    "print(f1_score(y, cv_predictions, average='micro'))\n",
    "print(classification_report(y, cv_predictions))"
   ]
  },
  {
   "cell_type": "markdown",
   "metadata": {},
   "source": [
    "Slightly better recall than SVM gives it an edge"
   ]
  },
  {
   "cell_type": "markdown",
   "metadata": {},
   "source": [
    "#### Confusion Matrix"
   ]
  },
  {
   "cell_type": "code",
   "execution_count": 17,
   "metadata": {},
   "outputs": [
    {
     "data": {
      "image/png": "[encoded data removed]",
      "text/plain": [
       "<Figure size 432x288 with 2 Axes>"
      ]
     },
     "metadata": {},
     "output_type": "display_data"
    }
   ],
   "source": [
    "conf_mat = confusion_matrix(y, cv_predictions, labels=np.sort(y.unique()))\n",
    "conf_mat_df = pd.DataFrame(\n",
    "    conf_mat, \n",
    "    index=np.sort(y.unique()), \n",
    "    columns=np.sort(y.unique()))\n",
    "\n",
    "conf_mat_props = pd.DataFrame(\n",
    "    conf_mat_df.values / conf_mat_df.sum(axis=1)[:,None],\n",
    "    index=np.sort(y.unique()), \n",
    "    columns=np.sort(y.unique()))\n",
    "\n",
    "sns.heatmap(conf_mat_props, annot=True);"
   ]
  },
  {
   "cell_type": "code",
   "execution_count": 18,
   "metadata": {},
   "outputs": [
    {
     "data": {
      "text/plain": [
       "2.142857142857143"
      ]
     },
     "execution_count": 18,
     "metadata": {},
     "output_type": "execute_result"
    }
   ],
   "source": [
    "conf_mat_props.apply(lambda x: (x == 0).sum()).mean()"
   ]
  },
  {
   "cell_type": "markdown",
   "metadata": {},
   "source": [
    "Errors are less sparse meaning more varried errors across clcasses."
   ]
  },
  {
   "cell_type": "markdown",
   "metadata": {},
   "source": [
    "#### Learning Curve"
   ]
  },
  {
   "cell_type": "code",
   "execution_count": 11,
   "metadata": {},
   "outputs": [
    {
     "data": {
      "image/png": "[encoded data removed]",
      "text/plain": [
       "<Figure size 432x288 with 1 Axes>"
      ]
     },
     "metadata": {},
     "output_type": "display_data"
    }
   ],
   "source": [
    "# Plot the learning curve\n",
    "plot_learning_curve(model.get_model_pipeline(), 'KNN Learning Curve', X, y, cv=CV, scoring=scorer);"
   ]
  },
  {
   "cell_type": "markdown",
   "metadata": {},
   "source": [
    "Clear overfitting on training set but performs well enough w.r.t. financial loss."
   ]
  },
  {
   "cell_type": "code",
   "execution_count": 15,
   "metadata": {},
   "outputs": [],
   "source": [
    "Model.save(model, '../models/knn-financial-loss_2018-09-04.model')"
   ]
  }
 ],
 "metadata": {
  "kernelspec": {
   "display_name": "Python 3",
   "language": "python",
   "name": "python3"
  },
  "language_info": {
   "codemirror_mode": {
    "name": "ipython",
    "version": 3
   },
   "file_extension": ".py",
   "mimetype": "text/x-python",
   "name": "python",
   "nbconvert_exporter": "python",
   "pygments_lexer": "ipython3",
   "version": "3.5.5"
  }
 },
 "nbformat": 4,
 "nbformat_minor": 2
}

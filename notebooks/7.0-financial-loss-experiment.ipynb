{
 "cells": [
  {
   "cell_type": "markdown",
   "metadata": {},
   "source": [
    "KNN and SVM are the top two models that minimize the \"financial loss\" - a metric which describes the total misallocation of funds and addresses the product categorization task from a pure optimization perspective.  It does not consider the nature of the errors - whether they are suitable for the actual use of the predictions - it simply aims to minimize the financial error assuming that the primary utility is found in accounting accuracies.  The financial error may not be suitable for e.g. reporting or forecasting tasks."
   ]
  },
  {
   "cell_type": "code",
   "execution_count": 32,
   "metadata": {},
   "outputs": [
    {
     "name": "stdout",
     "output_type": "stream",
     "text": [
      "The autoreload extension is already loaded. To reload it, use:\n",
      "  %reload_ext autoreload\n"
     ]
    }
   ],
   "source": [
    "%load_ext autoreload\n",
    "%autoreload 2\n",
    "import utils.add_path"
   ]
  },
  {
   "cell_type": "code",
   "execution_count": 65,
   "metadata": {},
   "outputs": [],
   "source": [
    "from autocat.data.datasets import get_training_data, get_totals_data\n",
    "from autocat.data.filters import no_null_StdUnitsShipped_StdNetAmount, no_null_descriptions\n",
    "from autocat.models import Model\n",
    "from autocat.models.pipelines import get_scaled_pipeline_v1, get_unscaled_pipeline_v1\n",
    "from autocat.models.evaluation import financial_loss_scorer\n",
    "\n",
    "from sklearn.model_selection import cross_val_score\n",
    "from sklearn.metrics import make_scorer\n",
    "\n",
    "import pandas as pd\n",
    "import numpy as np\n",
    "%matplotlib inline"
   ]
  },
  {
   "cell_type": "markdown",
   "metadata": {},
   "source": [
    "### Training data"
   ]
  },
  {
   "cell_type": "code",
   "execution_count": 58,
   "metadata": {},
   "outputs": [],
   "source": [
    "X, y = get_training_data('../data/processed/train_2018-08-24.csv', filters=[\n",
    "    no_null_StdUnitsShipped_StdNetAmount\n",
    "])"
   ]
  },
  {
   "cell_type": "markdown",
   "metadata": {},
   "source": [
    "### Models"
   ]
  },
  {
   "cell_type": "code",
   "execution_count": 35,
   "metadata": {},
   "outputs": [],
   "source": [
    "svm_model = Model.load('../models/svm-financial-loss_2018-09-04.model')\n",
    "knn_model = Model.load('../models/knn-financial-loss_2018-09-04.model')"
   ]
  },
  {
   "cell_type": "markdown",
   "metadata": {},
   "source": [
    "### Scorer"
   ]
  },
  {
   "cell_type": "code",
   "execution_count": 36,
   "metadata": {},
   "outputs": [],
   "source": [
    "scorer = make_scorer(financial_loss_scorer, totals=get_totals_data(), greater_is_better=True)"
   ]
  },
  {
   "cell_type": "markdown",
   "metadata": {},
   "source": [
    "### Cross Validation"
   ]
  },
  {
   "cell_type": "code",
   "execution_count": 48,
   "metadata": {},
   "outputs": [],
   "source": [
    "CV = 100\n",
    "svm_cv = cross_val_score(svm_model.get_model_pipeline(), X, y, scoring=scorer, cv=CV)\n",
    "knn_cv = cross_val_score(knn_model.get_model_pipeline(), X, y, scoring=scorer, cv=CV)"
   ]
  },
  {
   "cell_type": "code",
   "execution_count": 56,
   "metadata": {},
   "outputs": [
    {
     "data": {
      "image/png": "[encoded data removed]",
      "text/plain": [
       "<Figure size 720x288 with 1 Axes>"
      ]
     },
     "metadata": {},
     "output_type": "display_data"
    }
   ],
   "source": [
    "scores = pd.DataFrame({\n",
    "    'svm_scores': svm_cv,\n",
    "    'knn_scores': knn_cv,\n",
    "})\n",
    "scores.plot.hist(alpha=0.7, figsize=(10,4));"
   ]
  },
  {
   "cell_type": "code",
   "execution_count": 64,
   "metadata": {},
   "outputs": [
    {
     "data": {
      "image/png": "[encoded data removed]",
      "text/plain": [
       "<Figure size 720x288 with 1 Axes>"
      ]
     },
     "metadata": {},
     "output_type": "display_data"
    }
   ],
   "source": [
    "np.log(scores).plot.hist(alpha=0.7, figsize=(10,4));"
   ]
  },
  {
   "cell_type": "code",
   "execution_count": 57,
   "metadata": {},
   "outputs": [
    {
     "data": {
      "text/html": [
       "<div>\n",
       "<style scoped>\n",
       "    .dataframe tbody tr th:only-of-type {\n",
       "        vertical-align: middle;\n",
       "    }\n",
       "\n",
       "    .dataframe tbody tr th {\n",
       "        vertical-align: top;\n",
       "    }\n",
       "\n",
       "    .dataframe thead th {\n",
       "        text-align: right;\n",
       "    }\n",
       "</style>\n",
       "<table border=\"1\" class=\"dataframe\">\n",
       "  <thead>\n",
       "    <tr style=\"text-align: right;\">\n",
       "      <th></th>\n",
       "      <th>knn_scores</th>\n",
       "      <th>svm_scores</th>\n",
       "    </tr>\n",
       "  </thead>\n",
       "  <tbody>\n",
       "    <tr>\n",
       "      <th>count</th>\n",
       "      <td>100.000000</td>\n",
       "      <td>1.000000e+02</td>\n",
       "    </tr>\n",
       "    <tr>\n",
       "      <th>mean</th>\n",
       "      <td>252475.585800</td>\n",
       "      <td>2.617458e+05</td>\n",
       "    </tr>\n",
       "    <tr>\n",
       "      <th>std</th>\n",
       "      <td>108543.125504</td>\n",
       "      <td>1.622599e+05</td>\n",
       "    </tr>\n",
       "    <tr>\n",
       "      <th>min</th>\n",
       "      <td>70325.820000</td>\n",
       "      <td>8.651458e+04</td>\n",
       "    </tr>\n",
       "    <tr>\n",
       "      <th>25%</th>\n",
       "      <td>174774.055000</td>\n",
       "      <td>1.707802e+05</td>\n",
       "    </tr>\n",
       "    <tr>\n",
       "      <th>50%</th>\n",
       "      <td>228061.345000</td>\n",
       "      <td>2.357847e+05</td>\n",
       "    </tr>\n",
       "    <tr>\n",
       "      <th>75%</th>\n",
       "      <td>319924.560000</td>\n",
       "      <td>2.989878e+05</td>\n",
       "    </tr>\n",
       "    <tr>\n",
       "      <th>max</th>\n",
       "      <td>705252.940000</td>\n",
       "      <td>1.311753e+06</td>\n",
       "    </tr>\n",
       "  </tbody>\n",
       "</table>\n",
       "</div>"
      ],
      "text/plain": [
       "          knn_scores    svm_scores\n",
       "count     100.000000  1.000000e+02\n",
       "mean   252475.585800  2.617458e+05\n",
       "std    108543.125504  1.622599e+05\n",
       "min     70325.820000  8.651458e+04\n",
       "25%    174774.055000  1.707802e+05\n",
       "50%    228061.345000  2.357847e+05\n",
       "75%    319924.560000  2.989878e+05\n",
       "max    705252.940000  1.311753e+06"
      ]
     },
     "execution_count": 57,
     "metadata": {},
     "output_type": "execute_result"
    }
   ],
   "source": [
    "scores.describe()"
   ]
  },
  {
   "cell_type": "markdown",
   "metadata": {},
   "source": [
    "The means don't look significantly different but the knn model makes less extreme errors (though it's IQR is slightly higher than the SVM model's).  Based on this information, the KNN seems like the best model to use.  We could likely improve its performance with more tuning as discussed in the [2.0.1 notebook](2.0.1-knn-model-financial-loss-new.ipynb)."
   ]
  }
 ],
 "metadata": {
  "kernelspec": {
   "display_name": "Python 3",
   "language": "python",
   "name": "python3"
  },
  "language_info": {
   "codemirror_mode": {
    "name": "ipython",
    "version": 3
   },
   "file_extension": ".py",
   "mimetype": "text/x-python",
   "name": "python",
   "nbconvert_exporter": "python",
   "pygments_lexer": "ipython3",
   "version": "3.5.5"
  }
 },
 "nbformat": 4,
 "nbformat_minor": 2
}
